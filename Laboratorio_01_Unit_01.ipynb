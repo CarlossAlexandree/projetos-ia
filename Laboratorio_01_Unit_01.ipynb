{
  "nbformat": 4,
  "nbformat_minor": 0,
  "metadata": {
    "colab": {
      "provenance": [],
      "toc_visible": true
    },
    "kernelspec": {
      "name": "python3",
      "display_name": "Python 3"
    },
    "language_info": {
      "name": "python"
    }
  },
  "cells": [
    {
      "cell_type": "code",
      "source": [
        "import numpy as np\n",
        "\n",
        "def initialize_network(num_inputs, num_hidden_layers, num_nodes_hidden, num_nodes_output):\n",
        "    np.random.seed(42)  # Para garantir reproducibilidade\n",
        "    num_nodes_previous = num_inputs\n",
        "    network = {}\n",
        "\n",
        "    for layer in range(num_hidden_layers + 1):\n",
        "        if layer == num_hidden_layers:\n",
        "            layer_name = 'output'\n",
        "            num_nodes = num_nodes_output\n",
        "        else:\n",
        "            layer_name = f'layer_{layer + 1}'\n",
        "            # Ensure num_nodes_hidden is a list and access the correct element\n",
        "            num_nodes = num_nodes_hidden[layer] if isinstance(num_nodes_hidden, list) and layer < len(num_nodes_hidden) else num_nodes_previous\n",
        "\n",
        "\n",
        "        network[layer_name] = {}\n",
        "        for node in range(num_nodes):\n",
        "            node_name = f'node_{node + 1}'\n",
        "            network[layer_name][node_name] = {\n",
        "                'weights': np.around(np.random.uniform(size=num_nodes_previous), decimals=2),\n",
        "                'bias': np.around(np.random.uniform(size=1), decimals=2)[0]\n",
        "            }\n",
        "        num_nodes_previous = num_nodes\n",
        "\n",
        "    return network\n",
        "\n",
        "def compute_weighted_sum(inputs, weights, bias):\n",
        "    return np.sum(inputs * weights) + bias\n",
        "\n",
        "def node_activation(weighted_sum):\n",
        "    return 1.0 / (1.0 + np.exp(-weighted_sum))\n",
        "\n",
        "def forward_propagate(network, inputs):\n",
        "    layer_inputs = list(inputs)  # Começa com os inputs iniciais\n",
        "\n",
        "    for layer in network:\n",
        "        layer_data = network[layer]\n",
        "        layer_outputs = []\n",
        "\n",
        "        for layer_node in layer_data:\n",
        "            node_data = layer_data[layer_node]\n",
        "            weighted_sum = compute_weighted_sum(layer_inputs, node_data['weights'], node_data['bias'])\n",
        "            node_output = node_activation(weighted_sum)\n",
        "            layer_outputs.append(np.around(node_output, decimals=4))\n",
        "\n",
        "        layer_inputs = layer_outputs  # Saída vira entrada da próxima camada\n",
        "\n",
        "        if layer != 'output':\n",
        "            print(f\"🔹 Saídas da {layer}: {layer_outputs}\")\n",
        "\n",
        "    return layer_outputs\n",
        "\n",
        "# Execution code\n",
        "inputs = np.around(np.random.uniform(size=5), decimals=2)  # 5 entradas\n",
        "print(f\"🌟 Entradas da rede: {inputs}\")\n",
        "my_network = initialize_network(5, 3, [3, 2, 3], 1)\n",
        "predictions = forward_propagate(my_network, inputs)\n",
        "print(f\"🎯 Previsão final da rede: {predictions[0]}\")"
      ],
      "metadata": {
        "colab": {
          "base_uri": "https://localhost:8080/"
        },
        "id": "0jUOMqkDmaB3",
        "outputId": "40b142f9-7b5a-40e3-def7-9b80b8c58d2d"
      },
      "execution_count": null,
      "outputs": [
        {
          "output_type": "stream",
          "name": "stdout",
          "text": [
            "🌟 Entradas da rede: [0.2  0.05 0.33 0.39 0.27]\n",
            "🔹 Saídas da layer_1: [np.float64(0.6899), np.float64(0.8184), np.float64(0.7124)]\n",
            "🔹 Saídas da layer_2: [np.float64(0.7519), np.float64(0.8349)]\n",
            "🔹 Saídas da layer_3: [np.float64(0.7625), np.float64(0.6719), np.float64(0.8601)]\n",
            "🎯 Previsão final da rede: 0.8299\n"
          ]
        }
      ]
    },
    {
      "cell_type": "code",
      "source": [
        "import matplotlib.pyplot as plt\n",
        "def plot_layer_outputs(all_layer_outputs):\n",
        "    plt.figure(figsize=(10, 6))\n",
        "\n",
        "    for i, outputs in enumerate(all_layer_outputs, 1):\n",
        "        plt.subplot(1, len(all_layer_outputs), i)\n",
        "        plt.bar([f\"Nó {j+1}\" for j in range(len(outputs))], outputs, color='skyblue')\n",
        "        plt.title(f'Camada {i}')\n",
        "        plt.ylim(0, 1)\n",
        "        plt.xticks(rotation=45)\n",
        "        plt.grid(axis='y')\n",
        "\n",
        "    plt.tight_layout()\n",
        "    plt.show()\n",
        "\n",
        "def forward_propagate_with_tracking(network, inputs):\n",
        "    layer_inputs = list(inputs)\n",
        "    all_layer_outputs = []\n",
        "\n",
        "    for layer in network:\n",
        "        layer_data = network[layer]\n",
        "        layer_outputs = []\n",
        "\n",
        "        for layer_node in layer_data:\n",
        "            node_data = layer_data[layer_node]\n",
        "            weighted_sum = compute_weighted_sum(layer_inputs, node_data['weights'], node_data['bias'])\n",
        "            node_output = node_activation(weighted_sum)\n",
        "            layer_outputs.append(np.round(node_output, 4))\n",
        "\n",
        "        if layer != 'output':\n",
        "            print(f\"🔹 Saídas da {layer}: {layer_outputs}\")\n",
        "\n",
        "        all_layer_outputs.append(layer_outputs)\n",
        "        layer_inputs = layer_outputs\n",
        "\n",
        "    return all_layer_outputs, layer_outputs[0]\n",
        "\n",
        "inputs = np.round(np.random.uniform(size=5), 2)\n",
        "print(f\"🌟 Entradas: {inputs}\")\n",
        "my_network = initialize_network(5, 3, [3, 2, 3], 1)\n",
        "all_outputs, final_prediction = forward_propagate_with_tracking(my_network, inputs)\n",
        "plot_layer_outputs(all_outputs)\n",
        "print(f\"🎯 Previsão final: {final_prediction}\")"
      ],
      "metadata": {
        "colab": {
          "base_uri": "https://localhost:8080/",
          "height": 665
        },
        "id": "ZZILL6z50pmW",
        "outputId": "e014d29e-fdf0-45fc-dccc-66f63a2ba4a4"
      },
      "execution_count": null,
      "outputs": [
        {
          "output_type": "stream",
          "name": "stdout",
          "text": [
            "🌟 Entradas: [0.44 0.12 0.5  0.03 0.91]\n",
            "🔹 Saídas da layer_1: [np.float64(0.7242), np.float64(0.8085), np.float64(0.7822)]\n",
            "🔹 Saídas da layer_2: [np.float64(0.7619), np.float64(0.8401)]\n",
            "🔹 Saídas da layer_3: [np.float64(0.7633), np.float64(0.6727), np.float64(0.8607)]\n"
          ]
        },
        {
          "output_type": "display_data",
          "data": {
            "text/plain": [
              "<Figure size 1000x600 with 4 Axes>"
            ],
            "image/png": "[encoded data removed]"
          },
          "metadata": {}
        },
        {
          "output_type": "stream",
          "name": "stdout",
          "text": [
            "🎯 Previsão final: 0.8301\n"
          ]
        }
      ]
    },
    {
      "cell_type": "code",
      "source": [
        "def mean_squared_error(y_true, y_pred):\n",
        "    return np.mean((y_true - y_pred) ** 2)\n",
        "def sigmoid_derivative(x):\n",
        "    sig = 1.0 / (1.0 + np.exp(-x))\n",
        "    return sig * (1 - sig)\n",
        "def train_network(X, y, epochs=1000, lr=0.1, l2_lambda=0.01):\n",
        "    np.random.seed(42)\n",
        "\n",
        "    # Inicialização\n",
        "    w1 = np.random.uniform(size=(2, 2))\n",
        "    b1 = np.random.uniform(size=2)\n",
        "    w2 = np.random.uniform(size=2)\n",
        "    b2 = np.random.uniform()\n",
        "\n",
        "    for epoch in range(epochs):\n",
        "        # 🔃 Forward Pass\n",
        "        z1 = np.dot(X, w1) + b1\n",
        "        a1 = 1 / (1 + np.exp(-z1))  # Sigmoide\n",
        "        z2 = np.dot(a1, w2) + b2\n",
        "        a2 = 1 / (1 + np.exp(-z2))\n",
        "\n",
        "        # 🎯 Função de Custo com Regularização L2\n",
        "        cost = mean_squared_error(y, a2) + l2_lambda * (np.sum(w1**2) + np.sum(w2**2))\n",
        "\n",
        "        # 🔁 Backpropagation\n",
        "        dz2 = (a2 - y) * sigmoid_derivative(z2)\n",
        "        dw2 = np.dot(a1.T, dz2) + l2_lambda * w2\n",
        "        db2 = np.sum(dz2)\n",
        "\n",
        "        dz1 = np.dot(dz2.reshape(-1,1), w2.reshape(1,-1)) * sigmoid_derivative(z1)\n",
        "        dw1 = np.dot(X.T, dz1) + l2_lambda * w1\n",
        "        db1 = np.sum(dz1, axis=0)\n",
        "\n",
        "        # 🔧 Atualizações (Gradiente Descendente)\n",
        "        w2 -= lr * dw2\n",
        "        b2 -= lr * db2\n",
        "        w1 -= lr * dw1\n",
        "        b1 -= lr * db1\n",
        "\n",
        "        # 📈 Visualização de custo\n",
        "        if epoch % 100 == 0:\n",
        "            print(f'Época {epoch}, Custo: {round(cost, 4)}')\n",
        "\n",
        "    print(\"✅ Treinamento concluído.\")\n",
        "    return w1, b1, w2, b2\n",
        "# Entradas e rótulos (XOR simplificado)\n",
        "X = np.array([[0,0],[0,1],[1,0],[1,1]])\n",
        "y = np.array([0,1,1,0])\n",
        "\n",
        "# Treinar rede\n",
        "train_network(X, y, epochs=1000, lr=0.1, l2_lambda=0.01)\n"
      ],
      "metadata": {
        "colab": {
          "base_uri": "https://localhost:8080/"
        },
        "id": "-ZBpg2Ri2rUU",
        "outputId": "e32179e5-e1c1-4502-b453-a583bdc49506"
      },
      "execution_count": null,
      "outputs": [
        {
          "output_type": "stream",
          "name": "stdout",
          "text": [
            "Época 0, Custo: 0.3516\n",
            "Época 100, Custo: 0.2681\n",
            "Época 200, Custo: 0.2654\n",
            "Época 300, Custo: 0.2632\n",
            "Época 400, Custo: 0.2613\n",
            "Época 500, Custo: 0.2598\n",
            "Época 600, Custo: 0.2584\n",
            "Época 700, Custo: 0.2572\n",
            "Época 800, Custo: 0.2562\n",
            "Época 900, Custo: 0.2554\n",
            "✅ Treinamento concluído.\n"
          ]
        },
        {
          "output_type": "execute_result",
          "data": {
            "text/plain": [
              "(array([[0.10266512, 0.43608147],\n",
              "        [0.25024884, 0.34884353]]),\n",
              " array([0.15134754, 0.17257692]),\n",
              " array([-0.12686866,  0.26830764]),\n",
              " np.float64(-0.09754342603829258))"
            ]
          },
          "metadata": {},
          "execution_count": 55
        }
      ]
    }
  ]
}